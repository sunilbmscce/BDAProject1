{
 "cells": [
  {
   "cell_type": "code",
   "execution_count": 1,
   "metadata": {
    "collapsed": false
   },
   "outputs": [
    {
     "name": "stdout",
     "output_type": "stream",
     "text": [
      "3242\n",
      "4765\n",
      "3728\n"
     ]
    }
   ],
   "source": [
    "import loaddata as ld\n",
    "import pandas as pd\n",
    "reload(ld)\n",
    "metacritic_df,movies_df = ld.load_data()\n",
    "\n",
    "metacritic_df['title_nopunc'] = metacritic_df['title'].str.replace('[^\\w\\s]','')\n",
    "movies_df['title_nopunc'] = movies_df['title'].str.replace('[^\\w\\s]','')\n",
    "movies_df['title_nopunc'] = movies_df['title_nopunc'].str.lower()\n",
    "metacritic_df['title_nopunc'] = metacritic_df['title_nopunc'].str.lower()\n",
    "movies_df['title_nopunc'] = movies_df['title_nopunc'].str.strip()\n",
    "metacritic_df['title_nopunc'] = metacritic_df['title_nopunc'].str.strip()\n",
    "\n",
    "\n",
    "full_df = pd.merge(movies_df, metacritic_df, how='inner', on=['title_nopunc', 'year'], sort=True)\n",
    "print len(full_df) \n",
    "print len(metacritic_df) \n",
    "print len(movies_df)"
   ]
  },
  {
   "cell_type": "code",
   "execution_count": 29,
   "metadata": {
    "collapsed": false,
    "scrolled": true
   },
   "outputs": [
    {
     "data": {
      "text/plain": [
       "0                        Gil Junger\n",
       "1                      Jamie Linden\n",
       "2                   Roland Emmerich\n",
       "3                        Kevin Lima\n",
       "4                    Xiaoshuai Wang\n",
       "5                      Renny Harlin\n",
       "6                       Danny Boyle\n",
       "7                    Takashi  Miike\n",
       "8                       Gary Winick\n",
       "9                      Daniel Stamm\n",
       "10                    Géla Babluani\n",
       "11                  Mikael Håfström\n",
       "12                   Richard Donner\n",
       "13                      Burr Steers\n",
       "14                      Julie Delpy\n",
       "15                      Julie Delpy\n",
       "16                   John Singleton\n",
       "17                Baltasar Kormákur\n",
       "18                   Morgan Neville\n",
       "19                  Roland Emmerich\n",
       "20                   Dinesh D'Souza\n",
       "21                     Kar Wai Wong\n",
       "22                   Robert Luketic\n",
       "23                        Jon Lucas\n",
       "24      Alejandro González Iñárritu\n",
       "25                     Chris Miller\n",
       "26                        Spike Lee\n",
       "27                    Anne Fletcher\n",
       "28                     Betty Thomas\n",
       "29                      Danny Boyle\n",
       "                   ...             \n",
       "3212                      Rob Cohen\n",
       "3213                   Lucía Puenzo\n",
       "3214                   Harold Ramis\n",
       "3215                    Peyton Reed\n",
       "3216                    Eric Brevig\n",
       "3217                      Eytan Fox\n",
       "3218                   Andy Fickman\n",
       "3219               Kenneth Lonergan\n",
       "3220                   Dennis Dugan\n",
       "3221                   Chris Stokes\n",
       "3222                      John Dahl\n",
       "3223                  Anthony Russo\n",
       "3224                 Gilles Legrand\n",
       "3225                  Jason Reitman\n",
       "3226               Christopher Cain\n",
       "3227             David Gordon Green\n",
       "3228                   Lynn Shelton\n",
       "3229                   Adam Wingard\n",
       "3230                   Raja Gosnell\n",
       "3231                  Miguel Arteta\n",
       "3232                 Anthony Baxter\n",
       "3233                    Nora Ephron\n",
       "3234                  Jalil Lespert\n",
       "3235                    Kevin Smith\n",
       "3236                    Eran Riklis\n",
       "3237                   Jordan Rubin\n",
       "3238                Ruben Fleischer\n",
       "3239                   Frank Coraci\n",
       "3240                    Ben Stiller\n",
       "3241                   Peter Hewitt\n",
       "Name: director_y, dtype: object"
      ]
     },
     "execution_count": 29,
     "metadata": {},
     "output_type": "execute_result"
    }
   ],
   "source": [
    "#metacritic_df.to_excel('C:\\BDA\\Data_Sci_Bootcamp\\metacritic1.xlsx')\n",
    "#movies_df.to_excel('C:\\BDA\\Data_Sci_Bootcamp\\movies1.xlsx')\n",
    "mylist =['Christopher Nolan', 'Quentin Tarantino', 'Martin Scorsese', 'Steven Spielberg', 'Woody Allen', 'Ridley Scott', 'Clint Eastwood', 'Steven Soderbergh', 'Tim Burton']\n",
    "full_df.loc[~full_df.director_y.isin(mylist)]['director_y'] = 'Other'"
   ]
  },
  {
   "cell_type": "code",
   "execution_count": 70,
   "metadata": {
    "collapsed": false
   },
   "outputs": [
    {
     "ename": "AttributeError",
     "evalue": "'Series' object has no attribute 'info'",
     "output_type": "error",
     "traceback": [
      "\u001b[1;31m---------------------------------------------------------------------------\u001b[0m",
      "\u001b[1;31mAttributeError\u001b[0m                            Traceback (most recent call last)",
      "\u001b[1;32m<ipython-input-70-3e26ed2cf352>\u001b[0m in \u001b[0;36m<module>\u001b[1;34m()\u001b[0m\n\u001b[1;32m----> 1\u001b[1;33m \u001b[0mtest\u001b[0m\u001b[1;33m.\u001b[0m\u001b[0minfo\u001b[0m\u001b[1;33m(\u001b[0m\u001b[1;33m)\u001b[0m\u001b[1;33m\u001b[0m\u001b[0m\n\u001b[0m\u001b[0;32m      2\u001b[0m \u001b[0mcorr_df\u001b[0m \u001b[1;33m=\u001b[0m \u001b[0mfull_df\u001b[0m\u001b[1;33m.\u001b[0m\u001b[0mcorr\u001b[0m\u001b[1;33m(\u001b[0m\u001b[0mmethod\u001b[0m\u001b[1;33m=\u001b[0m\u001b[1;34m'pearson'\u001b[0m\u001b[1;33m)\u001b[0m\u001b[1;33m\u001b[0m\u001b[0m\n\u001b[0;32m      3\u001b[0m \u001b[0mcorr_df\u001b[0m\u001b[1;33m\u001b[0m\u001b[0m\n",
      "\u001b[1;32mc:\\Users\\qit482\\Desktop\\Anaconda\\lib\\site-packages\\pandas\\core\\generic.pyc\u001b[0m in \u001b[0;36m__getattr__\u001b[1;34m(self, name)\u001b[0m\n\u001b[0;32m   2667\u001b[0m             \u001b[1;32mif\u001b[0m \u001b[0mname\u001b[0m \u001b[1;32min\u001b[0m \u001b[0mself\u001b[0m\u001b[1;33m.\u001b[0m\u001b[0m_info_axis\u001b[0m\u001b[1;33m:\u001b[0m\u001b[1;33m\u001b[0m\u001b[0m\n\u001b[0;32m   2668\u001b[0m                 \u001b[1;32mreturn\u001b[0m \u001b[0mself\u001b[0m\u001b[1;33m[\u001b[0m\u001b[0mname\u001b[0m\u001b[1;33m]\u001b[0m\u001b[1;33m\u001b[0m\u001b[0m\n\u001b[1;32m-> 2669\u001b[1;33m             \u001b[1;32mreturn\u001b[0m \u001b[0mobject\u001b[0m\u001b[1;33m.\u001b[0m\u001b[0m__getattribute__\u001b[0m\u001b[1;33m(\u001b[0m\u001b[0mself\u001b[0m\u001b[1;33m,\u001b[0m \u001b[0mname\u001b[0m\u001b[1;33m)\u001b[0m\u001b[1;33m\u001b[0m\u001b[0m\n\u001b[0m\u001b[0;32m   2670\u001b[0m \u001b[1;33m\u001b[0m\u001b[0m\n\u001b[0;32m   2671\u001b[0m     \u001b[1;32mdef\u001b[0m \u001b[0m__setattr__\u001b[0m\u001b[1;33m(\u001b[0m\u001b[0mself\u001b[0m\u001b[1;33m,\u001b[0m \u001b[0mname\u001b[0m\u001b[1;33m,\u001b[0m \u001b[0mvalue\u001b[0m\u001b[1;33m)\u001b[0m\u001b[1;33m:\u001b[0m\u001b[1;33m\u001b[0m\u001b[0m\n",
      "\u001b[1;31mAttributeError\u001b[0m: 'Series' object has no attribute 'info'"
     ]
    }
   ],
   "source": [
    "test.info()\n",
    "corr_df = full_df.corr(method='pearson')\n",
    "corr_df"
   ]
  },
  {
   "cell_type": "code",
   "execution_count": 63,
   "metadata": {
    "collapsed": false
   },
   "outputs": [
    {
     "name": "stdout",
     "output_type": "stream",
     "text": [
      "<class 'pandas.core.frame.DataFrame'>\n",
      "Int64Index: 3242 entries, 0 to 3241\n",
      "Data columns (total 39 columns):\n",
      "alt_title               3242 non-null object\n",
      "director_x              1969 non-null object\n",
      "domestic_gross          3200 non-null float64\n",
      "mojo_slug               3242 non-null object\n",
      "opening_per_theater     3138 non-null float64\n",
      "opening_weekend_take    3138 non-null float64\n",
      "production_budget       1454 non-null float64\n",
      "release_date_limited    272 non-null object\n",
      "release_date_wide       3239 non-null object\n",
      "title_x                 3242 non-null object\n",
      "widest_release          3163 non-null float64\n",
      "worldwide_gross         2543 non-null float64\n",
      "year                    3242 non-null float64\n",
      "title_nopunc            3242 non-null object\n",
      "complete                3242 non-null object\n",
      "director_y              3242 non-null object\n",
      "genre                   3242 non-null object\n",
      "metacritic_page         3242 non-null object\n",
      "metascore               3166 non-null float64\n",
      "num_critic_reviews      3242 non-null object\n",
      "num_user_ratings        3107 non-null float64\n",
      "num_user_reviews        3242 non-null object\n",
      "rating                  3242 non-null object\n",
      "release_date            3242 non-null object\n",
      "runtime_minutes         3189 non-null float64\n",
      "studio                  3224 non-null object\n",
      "title_y                 3242 non-null object\n",
      "unable to retrieve      0 non-null object\n",
      "user_score              3242 non-null object\n",
      "Christopher Nolan       3242 non-null float64\n",
      "Clint Eastwood          3242 non-null float64\n",
      "Martin Scorsese         3242 non-null float64\n",
      "Other                   3242 non-null float64\n",
      "Quentin Tarantino       3242 non-null float64\n",
      "Ridley Scott            3242 non-null float64\n",
      "Steven Soderbergh       3242 non-null float64\n",
      "Steven Spielberg        3242 non-null float64\n",
      "Tim Burton              3242 non-null float64\n",
      "Woody Allen             3242 non-null float64\n",
      "dtypes: float64(20), object(19)\n",
      "memory usage: 1013.1+ KB\n"
     ]
    }
   ],
   "source": [
    "mylist =['Christopher Nolan', 'Quentin Tarantino', 'Martin Scorsese', 'Steven Spielberg', 'Woody Allen', 'Ridley Scott', 'Clint Eastwood', 'Steven Soderbergh', 'Tim Burton']\n",
    "\n",
    "full_df.loc[~full_df.director_y.isin(mylist),'director_y'] = 'Other'\n",
    "\n",
    "dummies = pd.get_dummies(full_df['director_y'])\n",
    "\n",
    "new_df = pd.concat([full_df, dummies], axis=1)\n",
    "\n",
    "new_df.info()"
   ]
  },
  {
   "cell_type": "code",
   "execution_count": 65,
   "metadata": {
    "collapsed": false
   },
   "outputs": [
    {
     "name": "stderr",
     "output_type": "stream",
     "text": [
      "c:\\Users\\qit482\\Desktop\\Anaconda\\lib\\site-packages\\ipykernel\\__main__.py:2: FutureWarning: convert_objects is deprecated.  Use the data-type specific converters pd.to_datetime, pd.to_timedelta and pd.to_numeric.\n",
      "  from ipykernel import kernelapp as app\n"
     ]
    }
   ],
   "source": [
    "full_df_clean = new_df[new_df.user_score != 'tbd']\n",
    "full_df_clean = full_df_clean.convert_objects(convert_numeric=True) \n",
    "\n",
    "corr_df = full_df_clean.corr(method='pearson')\n",
    "corr_df.to_excel('C:\\BDA\\Data_Sci_Bootcamp\\corr.xlsx')"
   ]
  },
  {
   "cell_type": "code",
   "execution_count": 66,
   "metadata": {
    "collapsed": false
   },
   "outputs": [
    {
     "name": "stdout",
     "output_type": "stream",
     "text": [
      "<class 'pandas.core.frame.DataFrame'>\n",
      "Int64Index: 3107 entries, 0 to 3241\n",
      "Data columns (total 39 columns):\n",
      "alt_title               3107 non-null object\n",
      "director_x              1961 non-null object\n",
      "domestic_gross          3078 non-null float64\n",
      "mojo_slug               10 non-null float64\n",
      "opening_per_theater     3023 non-null float64\n",
      "opening_weekend_take    3023 non-null float64\n",
      "production_budget       1452 non-null float64\n",
      "release_date_limited    270 non-null object\n",
      "release_date_wide       3104 non-null object\n",
      "title_x                 9 non-null float64\n",
      "widest_release          3043 non-null float64\n",
      "worldwide_gross         2503 non-null float64\n",
      "year                    3107 non-null float64\n",
      "title_nopunc            10 non-null float64\n",
      "complete                3107 non-null bool\n",
      "director_y              3107 non-null object\n",
      "genre                   3107 non-null object\n",
      "metacritic_page         3107 non-null object\n",
      "metascore               3065 non-null float64\n",
      "num_critic_reviews      3107 non-null object\n",
      "num_user_ratings        3107 non-null float64\n",
      "num_user_reviews        3107 non-null object\n",
      "rating                  3107 non-null object\n",
      "release_date            3107 non-null object\n",
      "runtime_minutes         3066 non-null float64\n",
      "studio                  3092 non-null object\n",
      "title_y                 9 non-null float64\n",
      "unable to retrieve      0 non-null float64\n",
      "user_score              3107 non-null float64\n",
      "Christopher Nolan       3107 non-null float64\n",
      "Clint Eastwood          3107 non-null float64\n",
      "Martin Scorsese         3107 non-null float64\n",
      "Other                   3107 non-null float64\n",
      "Quentin Tarantino       3107 non-null float64\n",
      "Ridley Scott            3107 non-null float64\n",
      "Steven Soderbergh       3107 non-null float64\n",
      "Steven Spielberg        3107 non-null float64\n",
      "Tim Burton              3107 non-null float64\n",
      "Woody Allen             3107 non-null float64\n",
      "dtypes: bool(1), float64(26), object(12)\n",
      "memory usage: 949.7+ KB\n"
     ]
    }
   ],
   "source": [
    "full_df_clean.info()"
   ]
  },
  {
   "cell_type": "code",
   "execution_count": 75,
   "metadata": {
    "collapsed": false
   },
   "outputs": [
    {
     "ename": "TypeError",
     "evalue": "ufunc 'divide' not supported for the input types, and the inputs could not be safely coerced to any supported types according to the casting rule ''safe''",
     "output_type": "error",
     "traceback": [
      "\u001b[1;31m---------------------------------------------------------------------------\u001b[0m",
      "\u001b[1;31mTypeError\u001b[0m                                 Traceback (most recent call last)",
      "\u001b[1;32m<ipython-input-75-d2f6c9a28514>\u001b[0m in \u001b[0;36m<module>\u001b[1;34m()\u001b[0m\n\u001b[1;32m----> 1\u001b[1;33m \u001b[0mfull_df_clean\u001b[0m\u001b[1;33m.\u001b[0m\u001b[0mdescribe\u001b[0m\u001b[1;33m(\u001b[0m\u001b[1;34m'user_scores'\u001b[0m\u001b[1;33m)\u001b[0m\u001b[1;33m\u001b[0m\u001b[0m\n\u001b[0m",
      "\u001b[1;32mc:\\Users\\qit482\\Desktop\\Anaconda\\lib\\site-packages\\pandas\\core\\generic.pyc\u001b[0m in \u001b[0;36mdescribe\u001b[1;34m(self, percentiles, include, exclude)\u001b[0m\n\u001b[0;32m   4813\u001b[0m         \u001b[1;32mif\u001b[0m \u001b[0mpercentiles\u001b[0m \u001b[1;32mis\u001b[0m \u001b[1;32mnot\u001b[0m \u001b[0mNone\u001b[0m\u001b[1;33m:\u001b[0m\u001b[1;33m\u001b[0m\u001b[0m\n\u001b[0;32m   4814\u001b[0m             \u001b[1;31m# get them all to be in [0, 1]\u001b[0m\u001b[1;33m\u001b[0m\u001b[1;33m\u001b[0m\u001b[0m\n\u001b[1;32m-> 4815\u001b[1;33m             \u001b[0mself\u001b[0m\u001b[1;33m.\u001b[0m\u001b[0m_check_percentile\u001b[0m\u001b[1;33m(\u001b[0m\u001b[0mpercentiles\u001b[0m\u001b[1;33m)\u001b[0m\u001b[1;33m\u001b[0m\u001b[0m\n\u001b[0m\u001b[0;32m   4816\u001b[0m             \u001b[0mpercentiles\u001b[0m \u001b[1;33m=\u001b[0m \u001b[0mnp\u001b[0m\u001b[1;33m.\u001b[0m\u001b[0masarray\u001b[0m\u001b[1;33m(\u001b[0m\u001b[0mpercentiles\u001b[0m\u001b[1;33m)\u001b[0m\u001b[1;33m\u001b[0m\u001b[0m\n\u001b[0;32m   4817\u001b[0m         \u001b[1;32melse\u001b[0m\u001b[1;33m:\u001b[0m\u001b[1;33m\u001b[0m\u001b[0m\n",
      "\u001b[1;32mc:\\Users\\qit482\\Desktop\\Anaconda\\lib\\site-packages\\pandas\\core\\generic.pyc\u001b[0m in \u001b[0;36m_check_percentile\u001b[1;34m(self, q)\u001b[0m\n\u001b[0;32m   4904\u001b[0m         \u001b[1;32mif\u001b[0m \u001b[0mq\u001b[0m\u001b[1;33m.\u001b[0m\u001b[0mndim\u001b[0m \u001b[1;33m==\u001b[0m \u001b[1;36m0\u001b[0m\u001b[1;33m:\u001b[0m\u001b[1;33m\u001b[0m\u001b[0m\n\u001b[0;32m   4905\u001b[0m             \u001b[1;32mif\u001b[0m \u001b[1;32mnot\u001b[0m \u001b[1;36m0\u001b[0m \u001b[1;33m<=\u001b[0m \u001b[0mq\u001b[0m \u001b[1;33m<=\u001b[0m \u001b[1;36m1\u001b[0m\u001b[1;33m:\u001b[0m\u001b[1;33m\u001b[0m\u001b[0m\n\u001b[1;32m-> 4906\u001b[1;33m                 \u001b[1;32mraise\u001b[0m \u001b[0mValueError\u001b[0m\u001b[1;33m(\u001b[0m\u001b[0mmsg\u001b[0m\u001b[1;33m.\u001b[0m\u001b[0mformat\u001b[0m\u001b[1;33m(\u001b[0m\u001b[0mq\u001b[0m \u001b[1;33m/\u001b[0m \u001b[1;36m100.0\u001b[0m\u001b[1;33m)\u001b[0m\u001b[1;33m)\u001b[0m\u001b[1;33m\u001b[0m\u001b[0m\n\u001b[0m\u001b[0;32m   4907\u001b[0m         \u001b[1;32melse\u001b[0m\u001b[1;33m:\u001b[0m\u001b[1;33m\u001b[0m\u001b[0m\n\u001b[0;32m   4908\u001b[0m             \u001b[1;32mif\u001b[0m \u001b[1;32mnot\u001b[0m \u001b[0mall\u001b[0m\u001b[1;33m(\u001b[0m\u001b[1;36m0\u001b[0m \u001b[1;33m<=\u001b[0m \u001b[0mqs\u001b[0m \u001b[1;33m<=\u001b[0m \u001b[1;36m1\u001b[0m \u001b[1;32mfor\u001b[0m \u001b[0mqs\u001b[0m \u001b[1;32min\u001b[0m \u001b[0mq\u001b[0m\u001b[1;33m)\u001b[0m\u001b[1;33m:\u001b[0m\u001b[1;33m\u001b[0m\u001b[0m\n",
      "\u001b[1;31mTypeError\u001b[0m: ufunc 'divide' not supported for the input types, and the inputs could not be safely coerced to any supported types according to the casting rule ''safe''"
     ]
    }
   ],
   "source": [
    "full_df_clean.describe('user_scores')"
   ]
  },
  {
   "cell_type": "code",
   "execution_count": 13,
   "metadata": {
    "collapsed": false
   },
   "outputs": [
    {
     "data": {
      "text/plain": [
       "alt_title                  0\n",
       "director_x              1273\n",
       "domestic_gross            42\n",
       "mojo_slug                  0\n",
       "opening_per_theater      104\n",
       "opening_weekend_take     104\n",
       "production_budget       1788\n",
       "release_date_limited    2970\n",
       "release_date_wide          3\n",
       "title_x                    0\n",
       "widest_release            79\n",
       "worldwide_gross          699\n",
       "year                       0\n",
       "title_nopunc               0\n",
       "complete                   0\n",
       "director_y                 0\n",
       "genre                      0\n",
       "metacritic_page            0\n",
       "metascore                 76\n",
       "num_critic_reviews         0\n",
       "num_user_ratings         135\n",
       "num_user_reviews           0\n",
       "rating                     0\n",
       "release_date               0\n",
       "runtime_minutes           53\n",
       "studio                    18\n",
       "title_y                    0\n",
       "unable to retrieve      3242\n",
       "user_score                 0\n",
       "dtype: int64"
      ]
     },
     "execution_count": 13,
     "metadata": {},
     "output_type": "execute_result"
    }
   ],
   "source": [
    "full_df_clean.isnull().sum()"
   ]
  },
  {
   "cell_type": "code",
   "execution_count": 159,
   "metadata": {
    "collapsed": false
   },
   "outputs": [],
   "source": [
    "import statsmodels.api as sm\n",
    "import numpy as np\n",
    "import sklearn as sk\n",
    "from sklearn import linear_model\n",
    "\n",
    "# Remove Missings\n",
    "full_df_nomiss = full_df_clean.dropna(subset=['user_score', 'domestic_gross','widest_release','runtime_minutes','metascore'])\n",
    "\n",
    "inputs = full_df_nomiss[['domestic_gross','widest_release','runtime_minutes','metascore']]\n",
    "response = full_df_nomiss['user_score']\n",
    "\n",
    "# Split into test and training\n",
    "X_train, X_test, y_train, y_test = train_test_split(inputs, response, test_size=0.2, random_state=1)\n",
    "\n",
    "# Fit the model\n",
    "model = linear_model.LinearRegression()\n",
    "model.fit(X_train, y_train)\n",
    "\n",
    "# Validate the model\n",
    "y_pred = model.predict(X_test)"
   ]
  },
  {
   "cell_type": "code",
   "execution_count": 162,
   "metadata": {
    "collapsed": false
   },
   "outputs": [
    {
     "data": {
      "text/plain": [
       "0.35244264759410082"
      ]
     },
     "execution_count": 162,
     "metadata": {},
     "output_type": "execute_result"
    }
   ],
   "source": [
    "model.score(X_train, y_train)"
   ]
  },
  {
   "cell_type": "code",
   "execution_count": 165,
   "metadata": {
    "collapsed": false
   },
   "outputs": [
    {
     "name": "stdout",
     "output_type": "stream",
     "text": [
      "1.1524359623\n",
      "0.400705775996\n",
      "0.352442647594\n"
     ]
    }
   ],
   "source": [
    "from sklearn.metrics import mean_squared_error\n",
    "from sklearn.metrics import r2_score\n",
    "\n",
    "print mean_squared_error(y_pred, y_test)\n",
    "print model.score(X_test, y_test)\n",
    "print model.score(X_train, y_train)"
   ]
  },
  {
   "cell_type": "code",
   "execution_count": 150,
   "metadata": {
    "collapsed": false
   },
   "outputs": [
    {
     "data": {
      "text/plain": [
       "<matplotlib.axes._subplots.AxesSubplot at 0x1214ec50>"
      ]
     },
     "execution_count": 150,
     "metadata": {},
     "output_type": "execute_result"
    },
    {
     "data": {
      "image/png": "[encoded data removed]",
      "text/plain": [
       "<matplotlib.figure.Figure at 0x11f76fd0>"
      ]
     },
     "metadata": {},
     "output_type": "display_data"
    }
   ],
   "source": [
    "import seaborn as sns\n",
    "%matplotlib inline\n",
    "\n",
    "resid = y_pred - y_test\n",
    "\n",
    "sns.regplot(x=y_test, y=y_pred)"
   ]
  },
  {
   "cell_type": "code",
   "execution_count": 112,
   "metadata": {
    "collapsed": false
   },
   "outputs": [
    {
     "data": {
      "text/html": [
       "<table class=\"simpletable\">\n",
       "<caption>OLS Regression Results</caption>\n",
       "<tr>\n",
       "  <th>Dep. Variable:</th>       <td>user_score</td>    <th>  R-squared:         </th> <td>   0.359</td> \n",
       "</tr>\n",
       "<tr>\n",
       "  <th>Model:</th>                   <td>OLS</td>       <th>  Adj. R-squared:    </th> <td>   0.358</td> \n",
       "</tr>\n",
       "<tr>\n",
       "  <th>Method:</th>             <td>Least Squares</td>  <th>  F-statistic:       </th> <td>   331.5</td> \n",
       "</tr>\n",
       "<tr>\n",
       "  <th>Date:</th>             <td>Thu, 12 May 2016</td> <th>  Prob (F-statistic):</th> <td>7.87e-227</td>\n",
       "</tr>\n",
       "<tr>\n",
       "  <th>Time:</th>                 <td>15:13:46</td>     <th>  Log-Likelihood:    </th> <td> -3585.6</td> \n",
       "</tr>\n",
       "<tr>\n",
       "  <th>No. Observations:</th>      <td>  2377</td>      <th>  AIC:               </th> <td>   7181.</td> \n",
       "</tr>\n",
       "<tr>\n",
       "  <th>Df Residuals:</th>          <td>  2372</td>      <th>  BIC:               </th> <td>   7210.</td> \n",
       "</tr>\n",
       "<tr>\n",
       "  <th>Df Model:</th>              <td>     4</td>      <th>                     </th>     <td> </td>    \n",
       "</tr>\n",
       "<tr>\n",
       "  <th>Covariance Type:</th>      <td>nonrobust</td>    <th>                     </th>     <td> </td>    \n",
       "</tr>\n",
       "</table>\n",
       "<table class=\"simpletable\">\n",
       "<tr>\n",
       "    <td></td>       <th>coef</th>     <th>std err</th>      <th>t</th>      <th>P>|t|</th> <th>[95.0% Conf. Int.]</th> \n",
       "</tr>\n",
       "<tr>\n",
       "  <th>const</th> <td>    3.9665</td> <td>    0.147</td> <td>   27.035</td> <td> 0.000</td> <td>    3.679     4.254</td>\n",
       "</tr>\n",
       "<tr>\n",
       "  <th>x1</th>    <td> 3.332e-09</td> <td>  5.7e-10</td> <td>    5.841</td> <td> 0.000</td> <td> 2.21e-09  4.45e-09</td>\n",
       "</tr>\n",
       "<tr>\n",
       "  <th>x2</th>    <td>   -0.0001</td> <td> 2.65e-05</td> <td>   -4.856</td> <td> 0.000</td> <td>   -0.000 -7.66e-05</td>\n",
       "</tr>\n",
       "<tr>\n",
       "  <th>x3</th>    <td>    0.0062</td> <td>    0.001</td> <td>    5.096</td> <td> 0.000</td> <td>    0.004     0.009</td>\n",
       "</tr>\n",
       "<tr>\n",
       "  <th>x4</th>    <td>    0.0394</td> <td>    0.001</td> <td>   27.082</td> <td> 0.000</td> <td>    0.037     0.042</td>\n",
       "</tr>\n",
       "</table>\n",
       "<table class=\"simpletable\">\n",
       "<tr>\n",
       "  <th>Omnibus:</th>       <td>111.882</td> <th>  Durbin-Watson:     </th> <td>   2.059</td>\n",
       "</tr>\n",
       "<tr>\n",
       "  <th>Prob(Omnibus):</th> <td> 0.000</td>  <th>  Jarque-Bera (JB):  </th> <td> 159.174</td>\n",
       "</tr>\n",
       "<tr>\n",
       "  <th>Skew:</th>          <td>-0.436</td>  <th>  Prob(JB):          </th> <td>2.73e-35</td>\n",
       "</tr>\n",
       "<tr>\n",
       "  <th>Kurtosis:</th>      <td> 3.921</td>  <th>  Cond. No.          </th> <td>4.49e+08</td>\n",
       "</tr>\n",
       "</table>"
      ],
      "text/plain": [
       "<class 'statsmodels.iolib.summary.Summary'>\n",
       "\"\"\"\n",
       "                            OLS Regression Results                            \n",
       "==============================================================================\n",
       "Dep. Variable:             user_score   R-squared:                       0.359\n",
       "Model:                            OLS   Adj. R-squared:                  0.358\n",
       "Method:                 Least Squares   F-statistic:                     331.5\n",
       "Date:                Thu, 12 May 2016   Prob (F-statistic):          7.87e-227\n",
       "Time:                        15:13:46   Log-Likelihood:                -3585.6\n",
       "No. Observations:                2377   AIC:                             7181.\n",
       "Df Residuals:                    2372   BIC:                             7210.\n",
       "Df Model:                           4                                         \n",
       "Covariance Type:            nonrobust                                         \n",
       "==============================================================================\n",
       "                 coef    std err          t      P>|t|      [95.0% Conf. Int.]\n",
       "------------------------------------------------------------------------------\n",
       "const          3.9665      0.147     27.035      0.000         3.679     4.254\n",
       "x1          3.332e-09    5.7e-10      5.841      0.000      2.21e-09  4.45e-09\n",
       "x2            -0.0001   2.65e-05     -4.856      0.000        -0.000 -7.66e-05\n",
       "x3             0.0062      0.001      5.096      0.000         0.004     0.009\n",
       "x4             0.0394      0.001     27.082      0.000         0.037     0.042\n",
       "==============================================================================\n",
       "Omnibus:                      111.882   Durbin-Watson:                   2.059\n",
       "Prob(Omnibus):                  0.000   Jarque-Bera (JB):              159.174\n",
       "Skew:                          -0.436   Prob(JB):                     2.73e-35\n",
       "Kurtosis:                       3.921   Cond. No.                     4.49e+08\n",
       "==============================================================================\n",
       "\n",
       "Warnings:\n",
       "[1] Standard Errors assume that the covariance matrix of the errors is correctly specified.\n",
       "[2] The condition number is large, 4.49e+08. This might indicate that there are\n",
       "strong multicollinearity or other numerical problems.\n",
       "\"\"\""
      ]
     },
     "execution_count": 112,
     "metadata": {},
     "output_type": "execute_result"
    }
   ],
   "source": [
    "Y = train_final['user_score']\n",
    "X = sm.add_constant(inputs)\n",
    "\n",
    "linmodel = sm.OLS(Y,X).fit()\n",
    "\n",
    "linmodel.summary()"
   ]
  },
  {
   "cell_type": "code",
   "execution_count": 113,
   "metadata": {
    "collapsed": false
   },
   "outputs": [
    {
     "ename": "ValueError",
     "evalue": "shapes (595,4) and (5,) not aligned: 4 (dim 1) != 5 (dim 0)",
     "output_type": "error",
     "traceback": [
      "\u001b[1;31m---------------------------------------------------------------------------\u001b[0m",
      "\u001b[1;31mValueError\u001b[0m                                Traceback (most recent call last)",
      "\u001b[1;32m<ipython-input-113-bdf8d75c0234>\u001b[0m in \u001b[0;36m<module>\u001b[1;34m()\u001b[0m\n\u001b[0;32m      3\u001b[0m \u001b[0minputs\u001b[0m \u001b[1;33m=\u001b[0m \u001b[0mnp\u001b[0m\u001b[1;33m.\u001b[0m\u001b[0mcolumn_stack\u001b[0m\u001b[1;33m(\u001b[0m\u001b[1;33m(\u001b[0m\u001b[0mtest_final\u001b[0m\u001b[1;33m[\u001b[0m\u001b[1;34m'domestic_gross'\u001b[0m\u001b[1;33m]\u001b[0m\u001b[1;33m,\u001b[0m\u001b[0mtest_final\u001b[0m\u001b[1;33m[\u001b[0m\u001b[1;34m'widest_release'\u001b[0m\u001b[1;33m]\u001b[0m\u001b[1;33m,\u001b[0m \u001b[0mtest_final\u001b[0m\u001b[1;33m[\u001b[0m\u001b[1;34m'runtime_minutes'\u001b[0m\u001b[1;33m]\u001b[0m\u001b[1;33m,\u001b[0m \u001b[0mtest_final\u001b[0m\u001b[1;33m[\u001b[0m\u001b[1;34m'metascore'\u001b[0m\u001b[1;33m]\u001b[0m\u001b[1;33m)\u001b[0m\u001b[1;33m)\u001b[0m\u001b[1;33m\u001b[0m\u001b[0m\n\u001b[0;32m      4\u001b[0m \u001b[1;33m\u001b[0m\u001b[0m\n\u001b[1;32m----> 5\u001b[1;33m \u001b[0my_pred\u001b[0m \u001b[1;33m=\u001b[0m \u001b[0mlinmodel\u001b[0m\u001b[1;33m.\u001b[0m\u001b[0mpredict\u001b[0m\u001b[1;33m(\u001b[0m\u001b[0minputs\u001b[0m\u001b[1;33m)\u001b[0m\u001b[1;33m\u001b[0m\u001b[0m\n\u001b[0m",
      "\u001b[1;32mc:\\Users\\qit482\\Desktop\\Anaconda\\lib\\site-packages\\statsmodels\\base\\model.pyc\u001b[0m in \u001b[0;36mpredict\u001b[1;34m(self, exog, transform, *args, **kwargs)\u001b[0m\n\u001b[0;32m    747\u001b[0m             \u001b[0mexog\u001b[0m \u001b[1;33m=\u001b[0m \u001b[0mnp\u001b[0m\u001b[1;33m.\u001b[0m\u001b[0matleast_2d\u001b[0m\u001b[1;33m(\u001b[0m\u001b[0mexog\u001b[0m\u001b[1;33m)\u001b[0m  \u001b[1;31m# needed in count model shape[1]\u001b[0m\u001b[1;33m\u001b[0m\u001b[0m\n\u001b[0;32m    748\u001b[0m \u001b[1;33m\u001b[0m\u001b[0m\n\u001b[1;32m--> 749\u001b[1;33m         \u001b[1;32mreturn\u001b[0m \u001b[0mself\u001b[0m\u001b[1;33m.\u001b[0m\u001b[0mmodel\u001b[0m\u001b[1;33m.\u001b[0m\u001b[0mpredict\u001b[0m\u001b[1;33m(\u001b[0m\u001b[0mself\u001b[0m\u001b[1;33m.\u001b[0m\u001b[0mparams\u001b[0m\u001b[1;33m,\u001b[0m \u001b[0mexog\u001b[0m\u001b[1;33m,\u001b[0m \u001b[1;33m*\u001b[0m\u001b[0margs\u001b[0m\u001b[1;33m,\u001b[0m \u001b[1;33m**\u001b[0m\u001b[0mkwargs\u001b[0m\u001b[1;33m)\u001b[0m\u001b[1;33m\u001b[0m\u001b[0m\n\u001b[0m\u001b[0;32m    750\u001b[0m \u001b[1;33m\u001b[0m\u001b[0m\n\u001b[0;32m    751\u001b[0m \u001b[1;33m\u001b[0m\u001b[0m\n",
      "\u001b[1;32mc:\\Users\\qit482\\Desktop\\Anaconda\\lib\\site-packages\\statsmodels\\regression\\linear_model.pyc\u001b[0m in \u001b[0;36mpredict\u001b[1;34m(self, params, exog)\u001b[0m\n\u001b[0;32m    357\u001b[0m         \u001b[1;32mif\u001b[0m \u001b[0mexog\u001b[0m \u001b[1;32mis\u001b[0m \u001b[0mNone\u001b[0m\u001b[1;33m:\u001b[0m\u001b[1;33m\u001b[0m\u001b[0m\n\u001b[0;32m    358\u001b[0m             \u001b[0mexog\u001b[0m \u001b[1;33m=\u001b[0m \u001b[0mself\u001b[0m\u001b[1;33m.\u001b[0m\u001b[0mexog\u001b[0m\u001b[1;33m\u001b[0m\u001b[0m\n\u001b[1;32m--> 359\u001b[1;33m         \u001b[1;32mreturn\u001b[0m \u001b[0mnp\u001b[0m\u001b[1;33m.\u001b[0m\u001b[0mdot\u001b[0m\u001b[1;33m(\u001b[0m\u001b[0mexog\u001b[0m\u001b[1;33m,\u001b[0m \u001b[0mparams\u001b[0m\u001b[1;33m)\u001b[0m\u001b[1;33m\u001b[0m\u001b[0m\n\u001b[0m\u001b[0;32m    360\u001b[0m \u001b[1;33m\u001b[0m\u001b[0m\n\u001b[0;32m    361\u001b[0m \u001b[1;32mclass\u001b[0m \u001b[0mGLS\u001b[0m\u001b[1;33m(\u001b[0m\u001b[0mRegressionModel\u001b[0m\u001b[1;33m)\u001b[0m\u001b[1;33m:\u001b[0m\u001b[1;33m\u001b[0m\u001b[0m\n",
      "\u001b[1;31mValueError\u001b[0m: shapes (595,4) and (5,) not aligned: 4 (dim 1) != 5 (dim 0)"
     ]
    }
   ],
   "source": [
    "test_final = test.dropna(subset=['domestic_gross','widest_release','runtime_minutes','metascore'])\n",
    "\n",
    "inputs = np.column_stack((test_final['domestic_gross'],test_final['widest_release'], test_final['runtime_minutes'], test_final['metascore']))\n",
    "\n",
    "y_pred = linmodel.predict(inputs)"
   ]
  },
  {
   "cell_type": "code",
   "execution_count": null,
   "metadata": {
    "collapsed": true
   },
   "outputs": [],
   "source": []
  }
 ],
 "metadata": {
  "kernelspec": {
   "display_name": "Python 2",
   "language": "python",
   "name": "python2"
  },
  "language_info": {
   "codemirror_mode": {
    "name": "ipython",
    "version": 2
   },
   "file_extension": ".py",
   "mimetype": "text/x-python",
   "name": "python",
   "nbconvert_exporter": "python",
   "pygments_lexer": "ipython2",
   "version": "2.7.11"
  }
 },
 "nbformat": 4,
 "nbformat_minor": 0
}

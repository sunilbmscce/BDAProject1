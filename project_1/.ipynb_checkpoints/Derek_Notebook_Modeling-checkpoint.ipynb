{
 "cells": [
  {
   "cell_type": "code",
   "execution_count": 3,
   "metadata": {
    "collapsed": false
   },
   "outputs": [
    {
     "name": "stdout",
     "output_type": "stream",
     "text": [
      "3242\n",
      "4765\n",
      "3728\n"
     ]
    }
   ],
   "source": [
    "import loaddata as ld\n",
    "import pandas as pd\n",
    "reload(ld)\n",
    "metacritic_df,movies_df = ld.load_data()\n",
    "\n",
    "metacritic_df['title_nopunc'] = metacritic_df['title'].str.replace('[^\\w\\s]','')\n",
    "movies_df['title_nopunc'] = movies_df['title'].str.replace('[^\\w\\s]','')\n",
    "movies_df['title_nopunc'] = movies_df['title_nopunc'].str.lower()\n",
    "metacritic_df['title_nopunc'] = metacritic_df['title_nopunc'].str.lower()\n",
    "movies_df['title_nopunc'] = movies_df['title_nopunc'].str.strip()\n",
    "metacritic_df['title_nopunc'] = metacritic_df['title_nopunc'].str.strip()\n",
    "\n",
    "\n",
    "full_df = pd.merge(movies_df, metacritic_df, how='inner', on=['title_nopunc', 'year'], sort=True)\n",
    "print len(full_df) \n",
    "print len(metacritic_df) \n",
    "print len(movies_df)"
   ]
  },
  {
   "cell_type": "code",
   "execution_count": 4,
   "metadata": {
    "collapsed": false,
    "scrolled": true
   },
   "outputs": [
    {
     "name": "stderr",
     "output_type": "stream",
     "text": [
      "c:\\Users\\RPM592\\AppData\\Local\\Continuum\\Anaconda2\\lib\\site-packages\\ipykernel\\__main__.py:4: SettingWithCopyWarning: \n",
      "A value is trying to be set on a copy of a slice from a DataFrame.\n",
      "Try using .loc[row_indexer,col_indexer] = value instead\n",
      "\n",
      "See the caveats in the documentation: http://pandas.pydata.org/pandas-docs/stable/indexing.html#indexing-view-versus-copy\n"
     ]
    }
   ],
   "source": [
    "#metacritic_df.to_excel('C:\\BDA\\Data_Sci_Bootcamp\\metacritic1.xlsx')\n",
    "#movies_df.to_excel('C:\\BDA\\Data_Sci_Bootcamp\\movies1.xlsx')\n",
    "mylist =['Christopher Nolan', 'Quentin Tarantino', 'Martin Scorsese', 'Steven Spielberg', 'Woody Allen', 'Ridley Scott', 'Clint Eastwood', 'Steven Soderbergh', 'Tim Burton']\n",
    "full_df.loc[~full_df.director_y.isin(mylist)]['director_y'] = 'Other'"
   ]
  },
  {
   "cell_type": "code",
   "execution_count": 5,
   "metadata": {
    "collapsed": false
   },
   "outputs": [
    {
     "name": "stdout",
     "output_type": "stream",
     "text": [
      "<class 'pandas.core.frame.DataFrame'>\n",
      "Int64Index: 3242 entries, 0 to 3241\n",
      "Data columns (total 39 columns):\n",
      "alt_title               3242 non-null object\n",
      "director_x              1969 non-null object\n",
      "domestic_gross          3200 non-null float64\n",
      "mojo_slug               3242 non-null object\n",
      "opening_per_theater     3138 non-null float64\n",
      "opening_weekend_take    3138 non-null float64\n",
      "production_budget       1454 non-null float64\n",
      "release_date_limited    272 non-null object\n",
      "release_date_wide       3239 non-null object\n",
      "title_x                 3242 non-null object\n",
      "widest_release          3163 non-null float64\n",
      "worldwide_gross         2543 non-null float64\n",
      "year                    3242 non-null float64\n",
      "title_nopunc            3242 non-null object\n",
      "complete                3242 non-null object\n",
      "director_y              3242 non-null object\n",
      "genre                   3242 non-null object\n",
      "metacritic_page         3242 non-null object\n",
      "metascore               3166 non-null float64\n",
      "num_critic_reviews      3242 non-null object\n",
      "num_user_ratings        3107 non-null float64\n",
      "num_user_reviews        3242 non-null object\n",
      "rating                  3242 non-null object\n",
      "release_date            3242 non-null object\n",
      "runtime_minutes         3189 non-null float64\n",
      "studio                  3224 non-null object\n",
      "title_y                 3242 non-null object\n",
      "unable to retrieve      0 non-null object\n",
      "user_score              3242 non-null object\n",
      "Christopher Nolan       3242 non-null float64\n",
      "Clint Eastwood          3242 non-null float64\n",
      "Martin Scorsese         3242 non-null float64\n",
      "Other                   3242 non-null float64\n",
      "Quentin Tarantino       3242 non-null float64\n",
      "Ridley Scott            3242 non-null float64\n",
      "Steven Soderbergh       3242 non-null float64\n",
      "Steven Spielberg        3242 non-null float64\n",
      "Tim Burton              3242 non-null float64\n",
      "Woody Allen             3242 non-null float64\n",
      "dtypes: float64(20), object(19)\n",
      "memory usage: 1013.1+ KB\n"
     ]
    }
   ],
   "source": [
    "mylist =['Christopher Nolan', 'Quentin Tarantino', 'Martin Scorsese', 'Steven Spielberg', 'Woody Allen', 'Ridley Scott', 'Clint Eastwood', 'Steven Soderbergh', 'Tim Burton']\n",
    "\n",
    "full_df.loc[~full_df.director_y.isin(mylist),'director_y'] = 'Other'\n",
    "\n",
    "dummies = pd.get_dummies(full_df['director_y'])\n",
    "\n",
    "new_df = pd.concat([full_df, dummies], axis=1)\n",
    "\n",
    "new_df.info()"
   ]
  },
  {
   "cell_type": "code",
   "execution_count": 6,
   "metadata": {
    "collapsed": false
   },
   "outputs": [
    {
     "name": "stderr",
     "output_type": "stream",
     "text": [
      "c:\\Users\\RPM592\\AppData\\Local\\Continuum\\Anaconda2\\lib\\site-packages\\ipykernel\\__main__.py:2: FutureWarning: convert_objects is deprecated.  Use the data-type specific converters pd.to_datetime, pd.to_timedelta and pd.to_numeric.\n",
      "  from ipykernel import kernelapp as app\n"
     ]
    },
    {
     "ename": "IOError",
     "evalue": "[Errno 2] No such file or directory: 'C:\\\\BDA\\\\Data_Sci_Bootcamp\\\\corr.xlsx'",
     "output_type": "error",
     "traceback": [
      "\u001b[1;31m---------------------------------------------------------------------------\u001b[0m",
      "\u001b[1;31mIOError\u001b[0m                                   Traceback (most recent call last)",
      "\u001b[1;32m<ipython-input-6-87b534325b68>\u001b[0m in \u001b[0;36m<module>\u001b[1;34m()\u001b[0m\n\u001b[0;32m      3\u001b[0m \u001b[1;33m\u001b[0m\u001b[0m\n\u001b[0;32m      4\u001b[0m \u001b[0mcorr_df\u001b[0m \u001b[1;33m=\u001b[0m \u001b[0mfull_df_clean\u001b[0m\u001b[1;33m.\u001b[0m\u001b[0mcorr\u001b[0m\u001b[1;33m(\u001b[0m\u001b[0mmethod\u001b[0m\u001b[1;33m=\u001b[0m\u001b[1;34m'pearson'\u001b[0m\u001b[1;33m)\u001b[0m\u001b[1;33m\u001b[0m\u001b[0m\n\u001b[1;32m----> 5\u001b[1;33m \u001b[0mcorr_df\u001b[0m\u001b[1;33m.\u001b[0m\u001b[0mto_excel\u001b[0m\u001b[1;33m(\u001b[0m\u001b[1;34m'C:\\BDA\\Data_Sci_Bootcamp\\corr.xlsx'\u001b[0m\u001b[1;33m)\u001b[0m\u001b[1;33m\u001b[0m\u001b[0m\n\u001b[0m",
      "\u001b[1;32mc:\\Users\\RPM592\\AppData\\Local\\Continuum\\Anaconda2\\lib\\site-packages\\pandas\\core\\frame.pyc\u001b[0m in \u001b[0;36mto_excel\u001b[1;34m(self, excel_writer, sheet_name, na_rep, float_format, columns, header, index, index_label, startrow, startcol, engine, merge_cells, encoding, inf_rep, verbose)\u001b[0m\n\u001b[0;32m   1425\u001b[0m                                  startrow=startrow, startcol=startcol)\n\u001b[0;32m   1426\u001b[0m         \u001b[1;32mif\u001b[0m \u001b[0mneed_save\u001b[0m\u001b[1;33m:\u001b[0m\u001b[1;33m\u001b[0m\u001b[0m\n\u001b[1;32m-> 1427\u001b[1;33m             \u001b[0mexcel_writer\u001b[0m\u001b[1;33m.\u001b[0m\u001b[0msave\u001b[0m\u001b[1;33m(\u001b[0m\u001b[1;33m)\u001b[0m\u001b[1;33m\u001b[0m\u001b[0m\n\u001b[0m\u001b[0;32m   1428\u001b[0m \u001b[1;33m\u001b[0m\u001b[0m\n\u001b[0;32m   1429\u001b[0m     def to_stata(self, fname, convert_dates=None, write_index=True,\n",
      "\u001b[1;32mc:\\Users\\RPM592\\AppData\\Local\\Continuum\\Anaconda2\\lib\\site-packages\\pandas\\io\\excel.pyc\u001b[0m in \u001b[0;36msave\u001b[1;34m(self)\u001b[0m\n\u001b[0;32m   1442\u001b[0m         \u001b[0mSave\u001b[0m \u001b[0mworkbook\u001b[0m \u001b[0mto\u001b[0m \u001b[0mdisk\u001b[0m\u001b[1;33m.\u001b[0m\u001b[1;33m\u001b[0m\u001b[0m\n\u001b[0;32m   1443\u001b[0m         \"\"\"\n\u001b[1;32m-> 1444\u001b[1;33m         \u001b[1;32mreturn\u001b[0m \u001b[0mself\u001b[0m\u001b[1;33m.\u001b[0m\u001b[0mbook\u001b[0m\u001b[1;33m.\u001b[0m\u001b[0mclose\u001b[0m\u001b[1;33m(\u001b[0m\u001b[1;33m)\u001b[0m\u001b[1;33m\u001b[0m\u001b[0m\n\u001b[0m\u001b[0;32m   1445\u001b[0m \u001b[1;33m\u001b[0m\u001b[0m\n\u001b[0;32m   1446\u001b[0m     \u001b[1;32mdef\u001b[0m \u001b[0mwrite_cells\u001b[0m\u001b[1;33m(\u001b[0m\u001b[0mself\u001b[0m\u001b[1;33m,\u001b[0m \u001b[0mcells\u001b[0m\u001b[1;33m,\u001b[0m \u001b[0msheet_name\u001b[0m\u001b[1;33m=\u001b[0m\u001b[0mNone\u001b[0m\u001b[1;33m,\u001b[0m \u001b[0mstartrow\u001b[0m\u001b[1;33m=\u001b[0m\u001b[1;36m0\u001b[0m\u001b[1;33m,\u001b[0m \u001b[0mstartcol\u001b[0m\u001b[1;33m=\u001b[0m\u001b[1;36m0\u001b[0m\u001b[1;33m)\u001b[0m\u001b[1;33m:\u001b[0m\u001b[1;33m\u001b[0m\u001b[0m\n",
      "\u001b[1;32mc:\\Users\\RPM592\\AppData\\Local\\Continuum\\Anaconda2\\lib\\site-packages\\xlsxwriter\\workbook.pyc\u001b[0m in \u001b[0;36mclose\u001b[1;34m(self)\u001b[0m\n\u001b[0;32m    294\u001b[0m         \u001b[1;32mif\u001b[0m \u001b[1;32mnot\u001b[0m \u001b[0mself\u001b[0m\u001b[1;33m.\u001b[0m\u001b[0mfileclosed\u001b[0m\u001b[1;33m:\u001b[0m\u001b[1;33m\u001b[0m\u001b[0m\n\u001b[0;32m    295\u001b[0m             \u001b[0mself\u001b[0m\u001b[1;33m.\u001b[0m\u001b[0mfileclosed\u001b[0m \u001b[1;33m=\u001b[0m \u001b[1;36m1\u001b[0m\u001b[1;33m\u001b[0m\u001b[0m\n\u001b[1;32m--> 296\u001b[1;33m             \u001b[0mself\u001b[0m\u001b[1;33m.\u001b[0m\u001b[0m_store_workbook\u001b[0m\u001b[1;33m(\u001b[0m\u001b[1;33m)\u001b[0m\u001b[1;33m\u001b[0m\u001b[0m\n\u001b[0m\u001b[0;32m    297\u001b[0m \u001b[1;33m\u001b[0m\u001b[0m\n\u001b[0;32m    298\u001b[0m     \u001b[1;32mdef\u001b[0m \u001b[0mset_properties\u001b[0m\u001b[1;33m(\u001b[0m\u001b[0mself\u001b[0m\u001b[1;33m,\u001b[0m \u001b[0mproperties\u001b[0m\u001b[1;33m)\u001b[0m\u001b[1;33m:\u001b[0m\u001b[1;33m\u001b[0m\u001b[0m\n",
      "\u001b[1;32mc:\\Users\\RPM592\\AppData\\Local\\Continuum\\Anaconda2\\lib\\site-packages\\xlsxwriter\\workbook.pyc\u001b[0m in \u001b[0;36m_store_workbook\u001b[1;34m(self)\u001b[0m\n\u001b[0;32m    526\u001b[0m \u001b[1;33m\u001b[0m\u001b[0m\n\u001b[0;32m    527\u001b[0m         xlsx_file = ZipFile(self.filename, \"w\", compression=ZIP_DEFLATED,\n\u001b[1;32m--> 528\u001b[1;33m                             allowZip64=self.allow_zip64)\n\u001b[0m\u001b[0;32m    529\u001b[0m \u001b[1;33m\u001b[0m\u001b[0m\n\u001b[0;32m    530\u001b[0m         \u001b[1;31m# Add XML sub-files to the Zip file with their Excel filename.\u001b[0m\u001b[1;33m\u001b[0m\u001b[1;33m\u001b[0m\u001b[0m\n",
      "\u001b[1;32mc:\\Users\\RPM592\\AppData\\Local\\Continuum\\Anaconda2\\lib\\zipfile.pyc\u001b[0m in \u001b[0;36m__init__\u001b[1;34m(self, file, mode, compression, allowZip64)\u001b[0m\n\u001b[0;32m    754\u001b[0m             \u001b[0mmodeDict\u001b[0m \u001b[1;33m=\u001b[0m \u001b[1;33m{\u001b[0m\u001b[1;34m'r'\u001b[0m \u001b[1;33m:\u001b[0m \u001b[1;34m'rb'\u001b[0m\u001b[1;33m,\u001b[0m \u001b[1;34m'w'\u001b[0m\u001b[1;33m:\u001b[0m \u001b[1;34m'wb'\u001b[0m\u001b[1;33m,\u001b[0m \u001b[1;34m'a'\u001b[0m \u001b[1;33m:\u001b[0m \u001b[1;34m'r+b'\u001b[0m\u001b[1;33m}\u001b[0m\u001b[1;33m\u001b[0m\u001b[0m\n\u001b[0;32m    755\u001b[0m             \u001b[1;32mtry\u001b[0m\u001b[1;33m:\u001b[0m\u001b[1;33m\u001b[0m\u001b[0m\n\u001b[1;32m--> 756\u001b[1;33m                 \u001b[0mself\u001b[0m\u001b[1;33m.\u001b[0m\u001b[0mfp\u001b[0m \u001b[1;33m=\u001b[0m \u001b[0mopen\u001b[0m\u001b[1;33m(\u001b[0m\u001b[0mfile\u001b[0m\u001b[1;33m,\u001b[0m \u001b[0mmodeDict\u001b[0m\u001b[1;33m[\u001b[0m\u001b[0mmode\u001b[0m\u001b[1;33m]\u001b[0m\u001b[1;33m)\u001b[0m\u001b[1;33m\u001b[0m\u001b[0m\n\u001b[0m\u001b[0;32m    757\u001b[0m             \u001b[1;32mexcept\u001b[0m \u001b[0mIOError\u001b[0m\u001b[1;33m:\u001b[0m\u001b[1;33m\u001b[0m\u001b[0m\n\u001b[0;32m    758\u001b[0m                 \u001b[1;32mif\u001b[0m \u001b[0mmode\u001b[0m \u001b[1;33m==\u001b[0m \u001b[1;34m'a'\u001b[0m\u001b[1;33m:\u001b[0m\u001b[1;33m\u001b[0m\u001b[0m\n",
      "\u001b[1;31mIOError\u001b[0m: [Errno 2] No such file or directory: 'C:\\\\BDA\\\\Data_Sci_Bootcamp\\\\corr.xlsx'"
     ]
    }
   ],
   "source": [
    "full_df_clean = new_df[new_df.user_score != 'tbd']\n",
    "full_df_clean = full_df_clean.convert_objects(convert_numeric=True) \n",
    "\n",
    "corr_df = full_df_clean.corr(method='pearson')\n",
    "corr_df.to_excel('C:\\BDA\\Data_Sci_Bootcamp\\corr.xlsx')"
   ]
  },
  {
   "cell_type": "code",
   "execution_count": null,
   "metadata": {
    "collapsed": false
   },
   "outputs": [],
   "source": [
    "full_df_clean.info()"
   ]
  },
  {
   "cell_type": "code",
   "execution_count": null,
   "metadata": {
    "collapsed": false,
    "scrolled": true
   },
   "outputs": [],
   "source": [
    "full_df_clean.isnull().sum()"
   ]
  },
  {
   "cell_type": "markdown",
   "metadata": {},
   "source": [
    "### Most simple model - only 1 predictor"
   ]
  },
  {
   "cell_type": "code",
   "execution_count": null,
   "metadata": {
    "collapsed": false
   },
   "outputs": [],
   "source": [
    "import numpy as np\n",
    "import sklearn as sk\n",
    "from sklearn.cross_validation import train_test_split\n",
    "from sklearn import linear_model\n",
    "\n",
    "# Remove Missings\n",
    "full_df_nomiss = full_df_clean.dropna(subset=['user_score','metascore'])\n",
    "\n",
    "inputs = full_df_nomiss[['metascore']]\n",
    "response = full_df_nomiss['user_score']\n",
    "\n",
    "# Split into test and training\n",
    "X_train, X_test, y_train, y_test = train_test_split(inputs, response, test_size=0.2, random_state=1)\n",
    "\n",
    "# Fit the model\n",
    "model = linear_model.LinearRegression()\n",
    "model.fit(X_train, y_train)\n",
    "\n",
    "# Validate the model\n",
    "y_pred = model.predict(X_test)\n",
    "\n",
    "from sklearn.metrics import mean_squared_error\n",
    "from sklearn.metrics import r2_score\n",
    "\n",
    "print mean_squared_error(y_pred, y_test)\n",
    "print model.score(X_test, y_test)\n",
    "print model.score(X_train, y_train)\n",
    "\n",
    "\n",
    "\n",
    "import seaborn as sns\n",
    "import matplotlib.pyplot as plt\n",
    "%matplotlib inline\n",
    "\n",
    "resid = y_pred - y_test\n",
    "\n",
    "plt.figure(figsize=(15,15))\n",
    "\n",
    "ax1 = plt.subplot(221)\n",
    "sns.regplot(x=y_test, y=y_pred)\n",
    "plt.xlim(0, 10)\n",
    "plt.ylim(0, 10)\n",
    "plt.title(\"Predicted User Scores vs Actual User Scores\")\n",
    "plt.xlabel(\"Actual User Scores\")\n",
    "plt.ylabel(\"Predicted User Scores\")\n",
    "\n",
    "ax2 = plt.subplot(222)\n",
    "plt.hist(resid, bins=20)\n",
    "plt.xlabel(\"Residuals\")\n",
    "\n",
    "ax3 = plt.subplot(223)\n",
    "sns.regplot(x=y_test, y=resid)\n",
    "plt.xlim(0, 10)\n",
    "plt.ylim(-3, 3)\n",
    "plt.title(\"Residuals vs Actual User Scores\")\n",
    "plt.xlabel(\"Actual User Scores\")\n",
    "plt.ylabel(\"Residuals\")\n",
    "\n",
    "ax4 = plt.subplot(224)\n",
    "sns.regplot(x=y_pred, y=resid)\n",
    "plt.xlim(0, 10)\n",
    "plt.ylim(-3, 3)\n",
    "plt.title(\"Residuals vs Predicted User Scores\")\n",
    "plt.xlabel(\"Predicted User Scores\")\n",
    "plt.ylabel(\"Residuals\")"
   ]
  },
  {
   "cell_type": "markdown",
   "metadata": {},
   "source": [
    "### Adding one more predictor"
   ]
  },
  {
   "cell_type": "code",
   "execution_count": null,
   "metadata": {
    "collapsed": false
   },
   "outputs": [],
   "source": [
    "import numpy as np\n",
    "import sklearn as sk\n",
    "from sklearn.cross_validation import train_test_split\n",
    "from sklearn import linear_model\n",
    "\n",
    "# Remove Missings\n",
    "full_df_nomiss = full_df_clean.dropna(subset=['user_score', 'domestic_gross','metascore'])\n",
    "\n",
    "inputs = full_df_nomiss[['domestic_gross','metascore']]\n",
    "response = full_df_nomiss['user_score']\n",
    "\n",
    "# Split into test and training\n",
    "X_train, X_test, y_train, y_test = train_test_split(inputs, response, test_size=0.2, random_state=1)\n",
    "\n",
    "# Fit the model\n",
    "model = linear_model.LinearRegression()\n",
    "model.fit(X_train, y_train)\n",
    "\n",
    "# Validate the model\n",
    "y_pred = model.predict(X_test)\n",
    "\n",
    "from sklearn.metrics import mean_squared_error\n",
    "from sklearn.metrics import r2_score\n",
    "\n",
    "print mean_squared_error(y_pred, y_test)\n",
    "print model.score(X_test, y_test)\n",
    "print model.score(X_train, y_train)\n",
    "\n",
    "\n",
    "\n",
    "import seaborn as sns\n",
    "import matplotlib.pyplot as plt\n",
    "%matplotlib inline\n",
    "\n",
    "resid = y_pred - y_test\n",
    "\n",
    "plt.figure(figsize=(15,15))\n",
    "\n",
    "ax1 = plt.subplot(221)\n",
    "sns.regplot(x=y_test, y=y_pred)\n",
    "plt.xlim(0, 10)\n",
    "plt.ylim(0, 10)\n",
    "plt.title(\"Predicted User Scores vs Actual User Scores\")\n",
    "plt.xlabel(\"Actual User Scores\")\n",
    "plt.ylabel(\"Predicted User Scores\")\n",
    "\n",
    "ax2 = plt.subplot(222)\n",
    "plt.hist(resid, bins=20)\n",
    "plt.xlabel(\"Residuals\")\n",
    "\n",
    "ax3 = plt.subplot(223)\n",
    "sns.regplot(x=y_test, y=resid)\n",
    "plt.xlim(0, 10)\n",
    "plt.ylim(-3, 3)\n",
    "plt.title(\"Residuals vs Actual User Scores\")\n",
    "plt.xlabel(\"Actual User Scores\")\n",
    "plt.ylabel(\"Residuals\")\n",
    "\n",
    "ax4 = plt.subplot(224)\n",
    "sns.regplot(x=y_pred, y=resid)\n",
    "plt.xlim(0, 10)\n",
    "plt.ylim(-3, 3)\n",
    "plt.title(\"Residuals vs Predicted User Scores\")\n",
    "plt.xlabel(\"Predicted User Scores\")\n",
    "plt.ylabel(\"Residuals\")"
   ]
  },
  {
   "cell_type": "markdown",
   "metadata": {},
   "source": [
    "### What if we only predict user score based on things we would know at the time of the opening (production budget, run time, widest release, and director), could we predict how much people would like the movie?"
   ]
  },
  {
   "cell_type": "code",
   "execution_count": null,
   "metadata": {
    "collapsed": false
   },
   "outputs": [],
   "source": [
    "import numpy as np\n",
    "import sklearn as sk\n",
    "from sklearn.cross_validation import train_test_split\n",
    "from sklearn import linear_model\n",
    "\n",
    "# Remove Missings\n",
    "full_df_nomiss = full_df_clean.dropna(subset=['production_budget','runtime_minutes','widest_release','Christopher Nolan', 'Clint Eastwood', 'Martin Scorsese', 'Other', 'Quentin Tarantino', \n",
    "                                              'Ridley Scott', 'Steven Soderbergh', 'Steven Spielberg', 'Tim Burton', 'Woody Allen'])\n",
    "\n",
    "inputs = full_df_nomiss[['production_budget','runtime_minutes','widest_release','Christopher Nolan', 'Clint Eastwood', 'Martin Scorsese', 'Other', 'Quentin Tarantino', \n",
    "                                              'Ridley Scott', 'Steven Soderbergh', 'Steven Spielberg', 'Tim Burton', 'Woody Allen']]\n",
    "response = full_df_nomiss['user_score']\n",
    "\n",
    "# Split into test and training\n",
    "X_train, X_test, y_train, y_test = train_test_split(inputs, response, test_size=0.2, random_state=1)\n",
    "\n",
    "# Fit the model\n",
    "model = linear_model.LinearRegression()\n",
    "model.fit(X_train, y_train)\n",
    "\n",
    "# Validate the model\n",
    "y_pred = model.predict(X_test)\n",
    "\n",
    "from sklearn.metrics import mean_squared_error\n",
    "from sklearn.metrics import r2_score\n",
    "\n",
    "print mean_squared_error(y_pred, y_test)\n",
    "print model.score(X_test, y_test)\n",
    "print model.score(X_train, y_train)\n",
    "\n",
    "\n",
    "\n",
    "import seaborn as sns\n",
    "import matplotlib.pyplot as plt\n",
    "%matplotlib inline\n",
    "\n",
    "resid = y_pred - y_test\n",
    "\n",
    "plt.figure(figsize=(15,15))\n",
    "\n",
    "ax1 = plt.subplot(221)\n",
    "sns.regplot(x=y_test, y=y_pred)\n",
    "plt.xlim(0, 10)\n",
    "plt.ylim(0, 10)\n",
    "plt.title(\"Predicted User Scores vs Actual User Scores\")\n",
    "plt.xlabel(\"Actual User Scores\")\n",
    "plt.ylabel(\"Predicted User Scores\")\n",
    "\n",
    "ax2 = plt.subplot(222)\n",
    "plt.hist(resid, bins=20)\n",
    "plt.xlabel(\"Residuals\")\n",
    "\n",
    "ax3 = plt.subplot(223)\n",
    "sns.regplot(x=y_test, y=resid)\n",
    "plt.xlim(0, 10)\n",
    "plt.ylim(-3, 3)\n",
    "plt.title(\"Residuals vs Actual User Scores\")\n",
    "plt.xlabel(\"Actual User Scores\")\n",
    "plt.ylabel(\"Residuals\")\n",
    "\n",
    "ax4 = plt.subplot(224)\n",
    "sns.regplot(x=y_pred, y=resid)\n",
    "plt.xlim(0, 10)\n",
    "plt.ylim(-3, 3)\n",
    "plt.title(\"Residuals vs Predicted User Scores\")\n",
    "plt.xlabel(\"Predicted User Scores\")\n",
    "plt.ylabel(\"Residuals\")"
   ]
  },
  {
   "cell_type": "markdown",
   "metadata": {},
   "source": [
    "### Would adding a lot more predictors help our predictive accuracy?"
   ]
  },
  {
   "cell_type": "code",
   "execution_count": null,
   "metadata": {
    "collapsed": false
   },
   "outputs": [],
   "source": [
    "import numpy as np\n",
    "import sklearn as sk\n",
    "from sklearn.cross_validation import train_test_split\n",
    "from sklearn import linear_model\n",
    "\n",
    "# Remove Missings\n",
    "full_df_nomiss = full_df_clean.dropna(subset=['user_score', 'opening_per_theater','opening_weekend_take', 'production_budget','worldwide_gross','year','num_user_ratings','Christopher Nolan', 'Clint Eastwood', 'Martin Scorsese', 'Other', 'Quentin Tarantino', 'Ridley Scott', 'Steven Soderbergh', 'Steven Spielberg', 'Tim Burton', 'Woody Allen', 'domestic_gross','metascore'])\n",
    "\n",
    "inputs = full_df_nomiss[['domestic_gross','opening_per_theater','opening_weekend_take', 'production_budget','worldwide_gross','year',\n",
    "                         'num_user_ratings','Christopher Nolan', 'Clint Eastwood', 'Martin Scorsese', 'Other', 'Quentin Tarantino', 'Ridley Scott', \n",
    "                         'Steven Soderbergh', 'Steven Spielberg', 'Tim Burton', 'Woody Allen', 'domestic_gross','metascore']]\n",
    "response = full_df_nomiss['user_score']\n",
    "\n",
    "# Split into test and training\n",
    "X_train, X_test, y_train, y_test = train_test_split(inputs, response, test_size=0.2, random_state=1)\n",
    "\n",
    "# Fit the model\n",
    "model = linear_model.LinearRegression()\n",
    "model.fit(X_train, y_train)\n",
    "\n",
    "# Validate the model\n",
    "y_pred = model.predict(X_test)\n",
    "\n",
    "from sklearn.metrics import mean_squared_error\n",
    "from sklearn.metrics import r2_score\n",
    "\n",
    "print mean_squared_error(y_pred, y_test)\n",
    "print model.score(X_test, y_test)\n",
    "print model.score(X_train, y_train)\n",
    "\n",
    "\n",
    "\n",
    "import seaborn as sns\n",
    "import matplotlib.pyplot as plt\n",
    "%matplotlib inline\n",
    "\n",
    "resid = y_pred - y_test\n",
    "\n",
    "plt.figure(figsize=(15,15))\n",
    "\n",
    "ax1 = plt.subplot(221)\n",
    "sns.regplot(x=y_test, y=y_pred)\n",
    "plt.xlim(0, 10)\n",
    "plt.ylim(0, 10)\n",
    "plt.title(\"Predicted User Scores vs Actual User Scores\")\n",
    "plt.xlabel(\"Actual User Scores\")\n",
    "plt.ylabel(\"Predicted User Scores\")\n",
    "\n",
    "ax2 = plt.subplot(222)\n",
    "plt.hist(resid, bins=20)\n",
    "plt.xlabel(\"Residuals\")\n",
    "\n",
    "ax3 = plt.subplot(223)\n",
    "sns.regplot(x=y_test, y=resid)\n",
    "plt.xlim(0, 10)\n",
    "plt.ylim(-3, 3)\n",
    "plt.title(\"Residuals vs Actual User Scores\")\n",
    "plt.xlabel(\"Actual User Scores\")\n",
    "plt.ylabel(\"Residuals\")\n",
    "\n",
    "ax4 = plt.subplot(224)\n",
    "sns.regplot(x=y_pred, y=resid)\n",
    "plt.xlim(0, 10)\n",
    "plt.ylim(-3, 3)\n",
    "plt.title(\"Residuals vs Predicted User Scores\")\n",
    "plt.xlabel(\"Predicted User Scores\")\n",
    "plt.ylabel(\"Residuals\")"
   ]
  },
  {
   "cell_type": "code",
   "execution_count": null,
   "metadata": {
    "collapsed": true
   },
   "outputs": [],
   "source": [
    "len(inputs.columns)"
   ]
  }
 ],
 "metadata": {
  "kernelspec": {
   "display_name": "Python 2",
   "language": "python",
   "name": "python2"
  },
  "language_info": {
   "codemirror_mode": {
    "name": "ipython",
    "version": 2
   },
   "file_extension": ".py",
   "mimetype": "text/x-python",
   "name": "python",
   "nbconvert_exporter": "python",
   "pygments_lexer": "ipython2",
   "version": "2.7.11"
  }
 },
 "nbformat": 4,
 "nbformat_minor": 0
}
